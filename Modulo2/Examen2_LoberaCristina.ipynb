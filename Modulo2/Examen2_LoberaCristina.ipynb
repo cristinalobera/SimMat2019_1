{
 "cells": [
  {
   "cell_type": "markdown",
   "metadata": {},
   "source": [
    "# Examen Módulo 2 - Simulación Montecarlo. <font color=blue>Tipo de examen 1</font>.\n",
    "Lea cuidadosamente las siguientes **indicaciones** antes de comenzar el examen:\n",
    "- Para resolver el examen edite este mismo archivo y renómbrelo de la siguiente manera: *Examen2_ApellidoNombre*, donde *ApellidoNombre* corresponde a su apellido paterno con la inicial en mayúscula, seguido de su primer nombre con la inicial en mayúscula **sin acentos**.\n",
    "- Resuelva los puntos en el espacio provisto. Si requiere agregar más celdas para código o escritura, hágalo.\n",
    "- Recuerde que también se está evaluando su capacidad de interpretar los resultados. Escriba sus interpretaciones/conclusiones en celdas utilizando *Markdown*.\n",
    "- El formato de presentación de todo el examen en general debe ser adecuado. Use tamaños de letra, colores, etiquetas, etcétera.\n",
    "- No se resuelven dudas de ningún tipo por los profesores de la asignatura. Por favor, absténgase de preguntar.\n",
    "- Revise bien el tipo de examen. Sólo se le calificará si realiza el tipo de examen asignado."
   ]
  },
  {
   "cell_type": "markdown",
   "metadata": {},
   "source": [
    "# Primer punto. Evaluación numérica de integrales y áreas usando Montecarlo (40 puntos)."
   ]
  },
  {
   "cell_type": "markdown",
   "metadata": {
    "collapsed": true
   },
   "source": [
    "###  Parte A\n",
    "**Enunciado** Considere las funciones $f_1(x)=e^{\\cos(1+x^{4})}$ y $f_2(x)=\\sin(\\ln x)$.\n",
    "\n",
    "**Punto A.1 (10 puntos)** Definir una función llamada  `montecarlo1` que corresponda al tipo 1 visto en clase para resolver integrales basada en la definición de valor promedio de una función.\n",
    "\n",
    "**Solución**"
   ]
  },
  {
   "cell_type": "code",
   "execution_count": 11,
   "metadata": {},
   "outputs": [],
   "source": [
    "import pandas as pd\n",
    "import matplotlib.pyplot as plt\n",
    "%matplotlib inline\n",
    "import numpy as np"
   ]
  },
  {
   "cell_type": "code",
   "execution_count": 4,
   "metadata": {},
   "outputs": [],
   "source": [
    "def montecarlo1(f,a,b,N):\n",
    "    u=(b-a)*np.random.rand(N)+a\n",
    "    return (b-a)*np.mean(f(u))\n",
    "\n",
    "def f1(x):\n",
    "    return np.exp(np.cos(1+x**4))\n",
    "def f2(x):\n",
    "    return np.sin(np.log(x))"
   ]
  },
  {
   "cell_type": "markdown",
   "metadata": {
    "collapsed": true
   },
   "source": [
    "**Punto A.2 (10 puntos)** Utilizar la función anterior para realizar la evaluación numérica de las integrales de las funciones anteriores en el intervalo (3,8). Poner los resultados en una tabla cuyas filas correspondan a la cantidad de términos utilizados en la aproximación (usar 10, 100, 1000, 10000 y 100000 términos) y cuyas columnas correspondan a las funciones.\n",
    "\n",
    "**Solución**"
   ]
  },
  {
   "cell_type": "code",
   "execution_count": 5,
   "metadata": {},
   "outputs": [],
   "source": [
    "a, b = 3, 8\n",
    "N = np.logspace(1, 5, 5)"
   ]
  },
  {
   "cell_type": "code",
   "execution_count": 6,
   "metadata": {},
   "outputs": [
    {
     "data": {
      "text/html": [
       "<div>\n",
       "<style scoped>\n",
       "    .dataframe tbody tr th:only-of-type {\n",
       "        vertical-align: middle;\n",
       "    }\n",
       "\n",
       "    .dataframe tbody tr th {\n",
       "        vertical-align: top;\n",
       "    }\n",
       "\n",
       "    .dataframe thead th {\n",
       "        text-align: right;\n",
       "    }\n",
       "</style>\n",
       "<table border=\"1\" class=\"dataframe\">\n",
       "  <thead>\n",
       "    <tr style=\"text-align: right;\">\n",
       "      <th></th>\n",
       "      <th>f1</th>\n",
       "      <th>f2</th>\n",
       "    </tr>\n",
       "  </thead>\n",
       "  <tbody>\n",
       "    <tr>\n",
       "      <th>10.0</th>\n",
       "      <td>7.02468</td>\n",
       "      <td>4.741</td>\n",
       "    </tr>\n",
       "    <tr>\n",
       "      <th>100.0</th>\n",
       "      <td>6.58289</td>\n",
       "      <td>4.79243</td>\n",
       "    </tr>\n",
       "    <tr>\n",
       "      <th>1000.0</th>\n",
       "      <td>6.20618</td>\n",
       "      <td>4.78168</td>\n",
       "    </tr>\n",
       "    <tr>\n",
       "      <th>10000.0</th>\n",
       "      <td>6.28299</td>\n",
       "      <td>4.78464</td>\n",
       "    </tr>\n",
       "    <tr>\n",
       "      <th>100000.0</th>\n",
       "      <td>6.2931</td>\n",
       "      <td>4.78826</td>\n",
       "    </tr>\n",
       "  </tbody>\n",
       "</table>\n",
       "</div>"
      ],
      "text/plain": [
       "               f1       f2\n",
       "10.0      7.02468    4.741\n",
       "100.0     6.58289  4.79243\n",
       "1000.0    6.20618  4.78168\n",
       "10000.0   6.28299  4.78464\n",
       "100000.0   6.2931  4.78826"
      ]
     },
     "execution_count": 6,
     "metadata": {},
     "output_type": "execute_result"
    }
   ],
   "source": [
    "tabla = pd.DataFrame(index = N, columns=['f1', 'f2'])\n",
    "for n in N:\n",
    "    tabla.loc[n,'f1'] = montecarlo1(f1, a, b, n.astype(int))\n",
    "    tabla.loc[n,'f2'] = montecarlo1(f2, a, b, n.astype(int))\n",
    "tabla"
   ]
  },
  {
   "cell_type": "code",
   "execution_count": null,
   "metadata": {},
   "outputs": [],
   "source": []
  },
  {
   "cell_type": "markdown",
   "metadata": {
    "collapsed": true
   },
   "source": [
    "###  Parte B\n",
    "**Enunciado** Considere la región definida por:\n",
    "$$ 6(4x-1)^4 + 5(3y-1)^6 <  2(4y-1)^3+(5x-2)^2+2.$$\n",
    "\n",
    "**Punto B.1 (5 puntos)** Definir una función llamada  `montecarlo2` que corresponda al tipo 2 visto en clase para encontrar áreas basada en probabilidades y una variable aleatoria de bernoulli.\n",
    "\n",
    "**Solución**"
   ]
  },
  {
   "cell_type": "code",
   "execution_count": 7,
   "metadata": {},
   "outputs": [],
   "source": [
    "def montecarlo2(R,a1,b1,a2,b2,N):\n",
    "    A_R=(b1-a1)*(b2-a2)\n",
    "    x= np.random.uniform(a1,b1, N.astype(int))\n",
    "    y= np.random.uniform(a2,b2, N.astype(int))\n",
    "    return A_R*np.sum(R(x,y))/N\n"
   ]
  },
  {
   "cell_type": "markdown",
   "metadata": {},
   "source": [
    "**Punto B.2 (5 puntos)** Graficar la región dada anteriormente y encontrar los límites adecuados $a_1$, $b_1$, $a_2$ y $b_2$\n",
    "\n",
    "**Solución**"
   ]
  },
  {
   "cell_type": "code",
   "execution_count": 21,
   "metadata": {},
   "outputs": [],
   "source": [
    "N= 100\n",
    "x=np.linspace(-.3,.7,N)\n",
    "y=np.linspace(.9,0,N)"
   ]
  },
  {
   "cell_type": "code",
   "execution_count": 22,
   "metadata": {},
   "outputs": [],
   "source": [
    "def R1(x,y):\n",
    "    return 6*(4*x-1)**4+5*(3*y-1)**6 < 2*(4*y-1)**3+(5*x-2)**2+2"
   ]
  },
  {
   "cell_type": "code",
   "execution_count": 23,
   "metadata": {},
   "outputs": [
    {
     "data": {
      "image/png": "[encoded data removed]",
      "text/plain": [
       "<Figure size 360x360 with 1 Axes>"
      ]
     },
     "metadata": {},
     "output_type": "display_data"
    }
   ],
   "source": [
    "X , Y= np.meshgrid(x,y)\n",
    "plt.figure(figsize=(5,5))\n",
    "plt.scatter(X,Y,c=~R1(X,Y),cmap='bone')\n",
    "plt.show()"
   ]
  },
  {
   "cell_type": "markdown",
   "metadata": {},
   "source": [
    "**Punto B.3 (10 puntos)** Utilizar la función `montecarlo2` para realizar la evaluación numérica del área. Poner los resultados en una tabla cuyas filas correspondan a la cantidad de términos utilizados en la aproximación (usar 10, 100, 1000, 10000 y 100000 términos) y cuyas columnas correspondan a las funciones.\n",
    "\n",
    "**Solución**"
   ]
  },
  {
   "cell_type": "code",
   "execution_count": 24,
   "metadata": {},
   "outputs": [
    {
     "data": {
      "text/html": [
       "<div>\n",
       "<style scoped>\n",
       "    .dataframe tbody tr th:only-of-type {\n",
       "        vertical-align: middle;\n",
       "    }\n",
       "\n",
       "    .dataframe tbody tr th {\n",
       "        vertical-align: top;\n",
       "    }\n",
       "\n",
       "    .dataframe thead th {\n",
       "        text-align: right;\n",
       "    }\n",
       "</style>\n",
       "<table border=\"1\" class=\"dataframe\">\n",
       "  <thead>\n",
       "    <tr style=\"text-align: right;\">\n",
       "      <th></th>\n",
       "      <th>Approx</th>\n",
       "    </tr>\n",
       "  </thead>\n",
       "  <tbody>\n",
       "    <tr>\n",
       "      <th>10.0</th>\n",
       "      <td>0.1</td>\n",
       "    </tr>\n",
       "    <tr>\n",
       "      <th>100.0</th>\n",
       "      <td>0.38</td>\n",
       "    </tr>\n",
       "    <tr>\n",
       "      <th>1000.0</th>\n",
       "      <td>0.303</td>\n",
       "    </tr>\n",
       "    <tr>\n",
       "      <th>10000.0</th>\n",
       "      <td>0.3179</td>\n",
       "    </tr>\n",
       "    <tr>\n",
       "      <th>100000.0</th>\n",
       "      <td>0.31428</td>\n",
       "    </tr>\n",
       "  </tbody>\n",
       "</table>\n",
       "</div>"
      ],
      "text/plain": [
       "           Approx\n",
       "10.0          0.1\n",
       "100.0        0.38\n",
       "1000.0      0.303\n",
       "10000.0    0.3179\n",
       "100000.0  0.31428"
      ]
     },
     "execution_count": 24,
     "metadata": {},
     "output_type": "execute_result"
    }
   ],
   "source": [
    "a1,a2,b1,b2=0,0,1,1\n",
    "N=np.logspace(1,5,5)\n",
    "\n",
    "df= pd.DataFrame(index=N,columns=['Approx'])\n",
    "\n",
    "for n in N:\n",
    "    df.loc[n,'Approx'] = montecarlo2(R1,a1,b1,a2,b2,n)\n",
    "df"
   ]
  },
  {
   "cell_type": "markdown",
   "metadata": {},
   "source": [
    "# Segundo punto. Fractal aleatorio tipo Barnsley (30 puntos).\n",
    "\n",
    "**Enunciado**\n",
    "\n",
    "- En la clase de fractales aleatorios vimos que el fractal helecho de Barnsley se generaba a través de cuatro transformaciones afines que se elegían con cierta probabilidad.\n",
    "- Vimos que este helecho representaba de manera muy aproximada helechos reales.\n",
    "- Vimos que modificando parámetros de la tabla, se podían generar mutaciones de el helecho.\n",
    "\n",
    "Pues bien, usando la misma idea de transformaciones afines que se escogen con cierta probabilidad, se pueden generar una infinidad inimaginable de fractales.\n",
    "\n",
    "Como en la clase de fractales, repliquemos el fractal tipo Barnsley descrito por la siguiente tabla:\n",
    "\n",
    "|  i | $a_i$ | $b_i$ | $c_i$ | $d_i$ | $e_i$ | $f_i$ | $p_i$ |\n",
    "|:--:|:-----:|:-----:|:-----:|:-----:|:-----:|-------|-------|\n",
    "|  1 |   0.5 |  0.0  |   0.0 |  0.5  |  1.0  | 1.0   | 0.33  |\n",
    "|  2 |  0.5  |  0.0  |  0.0  |  0.5  |  1.0  | 50    | 0.33  |\n",
    "|  3 | 0.5   | 0.0   |  0.0  | 0.5   | 50    | 50    | 0.34  |\n",
    "\n",
    "**Referencia:**\n",
    "- Barnsley, Michael F. *Fractals Everywhere: New Edition*, ISBN: 9780486320342."
   ]
  },
  {
   "cell_type": "markdown",
   "metadata": {},
   "source": [
    "**Punto 1 (10 puntos)** Definir los datos de la tabla anterior en un DataFrame de `pandas`, donde el index sea la variable $i=0,1,2$ y las columnas estén definidas por las constantes $a_i, \\ldots,\\,f_i,\\,p_i$.\n",
    "\n",
    "**Solución**"
   ]
  },
  {
   "cell_type": "code",
   "execution_count": 31,
   "metadata": {},
   "outputs": [],
   "source": [
    "import matplotlib.pyplot as plt\n",
    "%matplotlib inline\n",
    "import random"
   ]
  },
  {
   "cell_type": "code",
   "execution_count": 33,
   "metadata": {},
   "outputs": [
    {
     "data": {
      "text/html": [
       "<div>\n",
       "<style scoped>\n",
       "    .dataframe tbody tr th:only-of-type {\n",
       "        vertical-align: middle;\n",
       "    }\n",
       "\n",
       "    .dataframe tbody tr th {\n",
       "        vertical-align: top;\n",
       "    }\n",
       "\n",
       "    .dataframe thead th {\n",
       "        text-align: right;\n",
       "    }\n",
       "</style>\n",
       "<table border=\"1\" class=\"dataframe\">\n",
       "  <thead>\n",
       "    <tr style=\"text-align: right;\">\n",
       "      <th></th>\n",
       "      <th>ai</th>\n",
       "      <th>bi</th>\n",
       "      <th>ci</th>\n",
       "      <th>di</th>\n",
       "      <th>ei</th>\n",
       "      <th>fi</th>\n",
       "      <th>pi</th>\n",
       "    </tr>\n",
       "    <tr>\n",
       "      <th>$i$</th>\n",
       "      <th></th>\n",
       "      <th></th>\n",
       "      <th></th>\n",
       "      <th></th>\n",
       "      <th></th>\n",
       "      <th></th>\n",
       "      <th></th>\n",
       "    </tr>\n",
       "  </thead>\n",
       "  <tbody>\n",
       "    <tr>\n",
       "      <th>0</th>\n",
       "      <td>0.5</td>\n",
       "      <td>0.0</td>\n",
       "      <td>0.0</td>\n",
       "      <td>0.5</td>\n",
       "      <td>1.0</td>\n",
       "      <td>1.0</td>\n",
       "      <td>0.33</td>\n",
       "    </tr>\n",
       "    <tr>\n",
       "      <th>1</th>\n",
       "      <td>0.5</td>\n",
       "      <td>0.0</td>\n",
       "      <td>0.0</td>\n",
       "      <td>0.5</td>\n",
       "      <td>1.0</td>\n",
       "      <td>50.0</td>\n",
       "      <td>0.33</td>\n",
       "    </tr>\n",
       "    <tr>\n",
       "      <th>2</th>\n",
       "      <td>0.5</td>\n",
       "      <td>0.0</td>\n",
       "      <td>0.0</td>\n",
       "      <td>0.5</td>\n",
       "      <td>50.0</td>\n",
       "      <td>50.0</td>\n",
       "      <td>0.34</td>\n",
       "    </tr>\n",
       "  </tbody>\n",
       "</table>\n",
       "</div>"
      ],
      "text/plain": [
       "      ai   bi   ci   di    ei    fi    pi\n",
       "$i$                                      \n",
       "0    0.5  0.0  0.0  0.5   1.0   1.0  0.33\n",
       "1    0.5  0.0  0.0  0.5   1.0  50.0  0.33\n",
       "2    0.5  0.0  0.0  0.5  50.0  50.0  0.34"
      ]
     },
     "execution_count": 33,
     "metadata": {},
     "output_type": "execute_result"
    }
   ],
   "source": [
    "i = np.arange(3)\n",
    "\n",
    "df = pd.DataFrame(index=i,columns=['ai', 'bi', 'ci', 'di', 'ei', 'fi', 'pi'], dtype='float')\n",
    "df.index.name = \"$i$\"\n",
    "\n",
    "df['ai'] = [0.5, 0.5, 0.5]\n",
    "df['bi'] = [0.0, 0.0, 0.0]\n",
    "df['ci'] = [0.0, 0.0, 0.0]\n",
    "df['di'] = [0.5, 0.5, 0.5]\n",
    "df['ei'] = [1.0 , 1.0, 50]\n",
    "df['fi'] = [1.0, 50, 50]\n",
    "df['pi'] = [0.33, 0.33, 0.34]\n",
    "\n",
    "df.round(2)"
   ]
  },
  {
   "cell_type": "markdown",
   "metadata": {},
   "source": [
    "**Punto 2 (10 puntos)** Guardar los datos del DataFrame anterior en un arreglo matricial de `numpy`.\n",
    "\n",
    "**Solución**"
   ]
  },
  {
   "cell_type": "code",
   "execution_count": 34,
   "metadata": {},
   "outputs": [
    {
     "data": {
      "text/plain": [
       "array([[ 0.5,  0. ,  0. ,  0.5,  1. ,  1. ],\n",
       "       [ 0.5,  0. ,  0. ,  0.5,  1. , 50. ],\n",
       "       [ 0.5,  0. ,  0. ,  0.5, 50. , 50. ]])"
      ]
     },
     "execution_count": 34,
     "metadata": {},
     "output_type": "execute_result"
    }
   ],
   "source": [
    "Mat_Barnsley = df.iloc[:,:-1].values\n",
    "Mat_Barnsley"
   ]
  },
  {
   "cell_type": "markdown",
   "metadata": {},
   "source": [
    "**Punto 3 (10 puntos)** Graficar el fractal definido por las 3 transformaciones afines.\n",
    "\n",
    "**Solución**"
   ]
  },
  {
   "cell_type": "code",
   "execution_count": 36,
   "metadata": {},
   "outputs": [
    {
     "data": {
      "image/png": "[encoded data removed]",
      "text/plain": [
       "<Figure size 720x1080 with 1 Axes>"
      ]
     },
     "metadata": {},
     "output_type": "display_data"
    }
   ],
   "source": [
    "\n",
    "x, y = [0], [0]\n",
    "seq = np.array([0,1,2])\n",
    "prob = Mat_Barnsley[:,-1]\n",
    "a = Mat_Barnsley[:,0]\n",
    "b = Mat_Barnsley[:,1]\n",
    "c = Mat_Barnsley[:,2]\n",
    "d = Mat_Barnsley[:,3]\n",
    "e = Mat_Barnsley[:,4]\n",
    "f = Mat_Barnsley[:,5]\n",
    "\n",
    "for k in range(100000):\n",
    "    i = random.choices(seq, weights=prob)[0]\n",
    "    x.append(a[i]*x[-1]+b[i]*y[-1]+e[i])\n",
    "    y.append(c[i]*x[-2]+d[i]*y[-1]+f[i])\n",
    "# Graficamos\n",
    "plt.figure(figsize=(10, 15))\n",
    "plt.scatter(x, y, c='g', s=0.1)\n",
    "plt.show()"
   ]
  },
  {
   "cell_type": "markdown",
   "metadata": {},
   "source": [
    "# Tercer punto. Probabilidad Precio-Umbral (40 puntos).\n",
    "\n",
    "**Enunciado**\n",
    "\n",
    "En las últimas clases vimos una aplicación de simulación montecarlo. Consistía en descargar datos históricos de precio de cierre de acciones de alguna compañía, proyectar esos precios y sacar la probabilidad de que los precios en el siguiente año sobrepasaran cierto precio umbral."
   ]
  },
  {
   "cell_type": "markdown",
   "metadata": {},
   "source": [
    "**Punto 1 (10 puntos)** Descargar datos de los precios ajustados al cierre desde `yahoo finance` de los activos: Grupo Financiero Banorte y  Banco Santander México en un DataFrame de `pandas` con ayuda del módulo `pandas-datareader`.\n",
    "\n",
    "Considere como fecha de inicio el 1-Enero-2014 y fecha final el 31-Diciembre-2017.\n",
    "\n",
    "Grafique los datos obtenidos en un mismo gráfico.\n",
    "\n",
    "**Solución**"
   ]
  },
  {
   "cell_type": "code",
   "execution_count": null,
   "metadata": {},
   "outputs": [],
   "source": []
  },
  {
   "cell_type": "code",
   "execution_count": null,
   "metadata": {},
   "outputs": [],
   "source": []
  },
  {
   "cell_type": "code",
   "execution_count": null,
   "metadata": {},
   "outputs": [],
   "source": []
  },
  {
   "cell_type": "code",
   "execution_count": null,
   "metadata": {
    "scrolled": true
   },
   "outputs": [],
   "source": []
  },
  {
   "cell_type": "markdown",
   "metadata": {},
   "source": [
    "**Punto 2 (10 puntos)**. Calcule los rendimientos porcentuales diarios de los dos activos junto con sus características estadísticas (media y desviación estándar).\n",
    "\n",
    "Grafique dichos rendimientos en un mismo gráfico.\n",
    "\n",
    "**Solución**"
   ]
  },
  {
   "cell_type": "code",
   "execution_count": null,
   "metadata": {},
   "outputs": [],
   "source": []
  },
  {
   "cell_type": "code",
   "execution_count": null,
   "metadata": {},
   "outputs": [],
   "source": []
  },
  {
   "cell_type": "code",
   "execution_count": null,
   "metadata": {},
   "outputs": [],
   "source": []
  },
  {
   "cell_type": "markdown",
   "metadata": {},
   "source": [
    "**Punto 3 (10 puntos)** Simular 1000 escenarios de rendimientos diarios para el año 2018 (para cada una de las empresas). Con estos rendimientos simulados, encontrar los respectivos precios al cierre simulados usando la fórmula repectiva. Graficar dichos precios simulados **en una gráfica diferente para cada empresa**.\n",
    "\n",
    "**Solución**"
   ]
  },
  {
   "cell_type": "code",
   "execution_count": null,
   "metadata": {},
   "outputs": [],
   "source": []
  },
  {
   "cell_type": "code",
   "execution_count": null,
   "metadata": {},
   "outputs": [],
   "source": []
  },
  {
   "cell_type": "code",
   "execution_count": null,
   "metadata": {},
   "outputs": [],
   "source": []
  },
  {
   "cell_type": "code",
   "execution_count": null,
   "metadata": {},
   "outputs": [],
   "source": []
  },
  {
   "cell_type": "code",
   "execution_count": null,
   "metadata": {},
   "outputs": [],
   "source": []
  },
  {
   "cell_type": "markdown",
   "metadata": {},
   "source": [
    "**Punto 4 (10 puntos)** Calcular las probabilidades con base en una tasa de interés anual deseada del $10\\%$.\n",
    "\n",
    "**Solución**"
   ]
  },
  {
   "cell_type": "code",
   "execution_count": null,
   "metadata": {},
   "outputs": [],
   "source": []
  },
  {
   "cell_type": "code",
   "execution_count": null,
   "metadata": {},
   "outputs": [],
   "source": []
  },
  {
   "cell_type": "markdown",
   "metadata": {},
   "source": [
    "**Punto extra (Bonus) (10 puntos)** Este punto no es obligatorio, es opcional y sirve como puntos extras para el que desee resolverlo correctamente (No se dará puntos parciales para este bonus, es decir o se obtiene 0 puntos o se obtienen 10 puntos, no hay puntos intermedios).\n",
    "\n",
    "Descargue los datos de cada activo (empresa) del año 2018 y haga un análisis minucioso y detallado de éstos valores reales respecto a los simulados y a las probabilidades obtenidas en el punto anterior.\n",
    "\n",
    "El análisis debe realizarse para cada empresa y se debe evaluar y concluir que tan acertados fueron los resultados anteriores."
   ]
  },
  {
   "cell_type": "code",
   "execution_count": null,
   "metadata": {},
   "outputs": [],
   "source": []
  },
  {
   "cell_type": "code",
   "execution_count": null,
   "metadata": {},
   "outputs": [],
   "source": []
  }
 ],
 "metadata": {
  "kernelspec": {
   "display_name": "Python 3",
   "language": "python",
   "name": "python3"
  },
  "language_info": {
   "codemirror_mode": {
    "name": "ipython",
    "version": 3
   },
   "file_extension": ".py",
   "mimetype": "text/x-python",
   "name": "python",
   "nbconvert_exporter": "python",
   "pygments_lexer": "ipython3",
   "version": "3.6.6"
  }
 },
 "nbformat": 4,
 "nbformat_minor": 2
}
